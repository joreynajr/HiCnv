{
 "cells": [
  {
   "cell_type": "code",
   "execution_count": 1,
   "id": "f81aa738",
   "metadata": {},
   "outputs": [],
   "source": [
    "import pysam\n",
    "import argparse"
   ]
  },
  {
   "cell_type": "code",
   "execution_count": 20,
   "id": "3a69e316",
   "metadata": {},
   "outputs": [
    {
     "name": "stdout",
     "output_type": "stream",
     "text": [
      "Writing tmp.py\n"
     ]
    }
   ],
   "source": [
    "%%writefile tmp.py\n",
    "parser = argparse.ArgumentParser()\n",
    "\n",
    "#parser.add_argument('--r1', required=True, type=str, help='R1 input file.')\n",
    "#parser.add_argument('--r2', required=True, type=str, help='R2 input file.')\n",
    "#parser.add_argument('--r1-out', required=True, type=str, help='R1 output file.')\n",
    "#parser.add_argument('--r2-out', required=True, type=str, help='R2 output file.')\n",
    "# params = parser.parse_args()\n",
    "\n",
    "r1 = '../../results/main/LNCaP/4d_nucleome/4DNESNHN919R-B1-T1_R1.sorted.small.readSorted.bam'\n",
    "r2 = '../../results/main/LNCaP/4d_nucleome/4DNESNHN919R-B1-T1_R2.sorted.small.readSorted.bam'\n",
    "\n",
    "rout1 = '../../results/main/LNCaP/4d_nucleome/4DNESNHN919R-B1-T1_R1.sorted.linedup.small.bam'\n",
    "rout2 = '../../results/main/LNCaP/4d_nucleome/4DNESNHN919R-B1-T1_R2.sorted.linedup.small.bam'\n",
    "\n",
    "sam1 = pysam.AlignmentFile(r1, \"rb\")\n",
    "sam2 = pysam.AlignmentFile(r2, \"rb\")\n",
    "\n",
    "# open the files we'll write into\n",
    "# write the reads containing the common names for the first BAM/SAM\n",
    "sam_out1 = pysam.AlignmentFile(rout1, \"wb\", template=sam1)\n",
    "sam_out2 = pysam.AlignmentFile(rout2, \"wb\", template=sam2)\n",
    "\n",
    "# initial iteration \n",
    "iter1 = sam1.fetch(until_eof=True)\n",
    "iter2 = sam2.fetch(until_eof=True)\n",
    "\n",
    "aln1 = next(iter1)\n",
    "aln2 = next(iter2)\n",
    "        \n",
    "# all other iterations\n",
    "keep_going = True\n",
    "while keep_going:  \n",
    "        \n",
    "    # update aln1 and aln1 but completely stop if no more values\n",
    "    # in either one\n",
    "    # write out the matching pairs\n",
    "    if aln1.query_name == aln2.query_name:\n",
    "        sam_out1.write(aln1)\n",
    "        sam_out2.write(aln2)\n",
    "\n",
    "        # update aln1 or completely stop if no more values\n",
    "        try: \n",
    "            aln1 = next(iter1)\n",
    "        except StopIteration:\n",
    "            keep_going = False\n",
    "            \n",
    "        # update aln2 or completely stop if no more values\n",
    "        try:\n",
    "            aln2 = next(iter2)\n",
    "        except StopIteration:\n",
    "            keep_going = False\n",
    "\n",
    "\n",
    "    # update aln1 or completely stop if no more values\n",
    "    elif aln1.query_name < aln2.query_name:\n",
    "        try: \n",
    "            aln1 = next(iter1)\n",
    "        except StopIteration:\n",
    "            keep_going = False\n",
    "\n",
    "    # update aln2 or completely stop if no more values\n",
    "    elif aln1.query_name > aln2.query_name:\n",
    "        try: \n",
    "            aln2 = next(iter2)\n",
    "        except StopIteration:\n",
    "            keep_going = False\n",
    "\n",
    "\n",
    "# closing the handles\n",
    "sam1.close()\n",
    "sam2.close()        \n",
    "sam_out1.close()\n",
    "sam_out2.close()"
   ]
  },
  {
   "cell_type": "code",
   "execution_count": null,
   "id": "68bddb77",
   "metadata": {},
   "outputs": [],
   "source": []
  },
  {
   "cell_type": "code",
   "execution_count": 16,
   "id": "e0e26666",
   "metadata": {},
   "outputs": [],
   "source": [
    "check1 = pysam.AlignmentFile(rout1)\n",
    "check2 = pysam.AlignmentFile(rout2)\n",
    "\n",
    "iter1 = check1.fetch(until_eof=True)\n",
    "iter2 = check2.fetch(until_eof=True)\n",
    "keep_going = True\n",
    "check_counter = 0 \n",
    "total_counter = 0 \n",
    "while keep_going:\n",
    "    try:\n",
    "        aln1 = next(iter1)\n",
    "    except StopIteration:\n",
    "        keep_going = False\n",
    "        \n",
    "    try:\n",
    "        aln2 = next(iter2)\n",
    "    except StopIteration:\n",
    "        keep_going = False\n",
    "\n",
    "    \n",
    "    # it query_name names update check_counter\n",
    "    if aln1.query_name == aln2.query_name:\n",
    "        check_counter += 1\n",
    "        \n",
    "    # update total counter\n",
    "    total_counter += 1 "
   ]
  },
  {
   "cell_type": "code",
   "execution_count": 17,
   "id": "e2be0377",
   "metadata": {},
   "outputs": [
    {
     "data": {
      "text/plain": [
       "801"
      ]
     },
     "execution_count": 17,
     "metadata": {},
     "output_type": "execute_result"
    }
   ],
   "source": [
    "check_counter"
   ]
  },
  {
   "cell_type": "code",
   "execution_count": 18,
   "id": "4ee8ae40",
   "metadata": {},
   "outputs": [
    {
     "data": {
      "text/plain": [
       "801"
      ]
     },
     "execution_count": 18,
     "metadata": {},
     "output_type": "execute_result"
    }
   ],
   "source": [
    "total_counter"
   ]
  },
  {
   "cell_type": "code",
   "execution_count": null,
   "id": "29496268",
   "metadata": {},
   "outputs": [],
   "source": []
  },
  {
   "cell_type": "code",
   "execution_count": null,
   "id": "16872467",
   "metadata": {},
   "outputs": [],
   "source": []
  },
  {
   "cell_type": "code",
   "execution_count": null,
   "id": "29cd7a4b",
   "metadata": {},
   "outputs": [],
   "source": []
  },
  {
   "cell_type": "code",
   "execution_count": null,
   "id": "2180e91e",
   "metadata": {},
   "outputs": [],
   "source": []
  },
  {
   "cell_type": "code",
   "execution_count": null,
   "id": "ad90081f",
   "metadata": {},
   "outputs": [],
   "source": []
  },
  {
   "cell_type": "code",
   "execution_count": null,
   "id": "22e12963",
   "metadata": {},
   "outputs": [],
   "source": []
  }
 ],
 "metadata": {
  "kernelspec": {
   "display_name": "HiC",
   "language": "python",
   "name": "hic_tls"
  },
  "language_info": {
   "codemirror_mode": {
    "name": "ipython",
    "version": 3
   },
   "file_extension": ".py",
   "mimetype": "text/x-python",
   "name": "python",
   "nbconvert_exporter": "python",
   "pygments_lexer": "ipython3",
   "version": "3.6.7"
  }
 },
 "nbformat": 4,
 "nbformat_minor": 5
}
