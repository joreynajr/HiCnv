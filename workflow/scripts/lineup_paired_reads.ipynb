{
 "cells": [
  {
   "cell_type": "code",
   "execution_count": 25,
   "id": "e4764f7a",
   "metadata": {},
   "outputs": [
    {
     "name": "stdout",
     "output_type": "stream",
     "text": [
      "Writing lineup_paired_reads.py\n"
     ]
    }
   ],
   "source": [
    "import pysam\n",
    "\n",
    "import argparse\n",
    "\n",
    "parser = argparse.ArgumentParser()\n",
    "\n",
    "#parser.add_argument('--r1', required=True, type=str, help='R1 input file.')\n",
    "#parser.add_argument('--r2', required=True, type=str, help='R2 input file.')\n",
    "#parser.add_argument('--r1-out', required=True, type=str, help='R1 output file.')\n",
    "#parser.add_argument('--r2-out', required=True, type=str, help='R2 output file.')\n",
    "# params = parser.parse_args()\n",
    "\n",
    "r1 = '../../results/main/LNCaP/4d_nucleome/4DNESNHN919R-B1-T1_R1.sorted.bam'\n",
    "r2 = '../../results/main/LNCaP/4d_nucleome/4DNESNHN919R-B1-T1_R2.sorted.bam'\n",
    "\n",
    "rout1 = '../../results/main/LNCaP/4d_nucleome/4DNESNHN919R-B1-T1_R1.sorted.linedup.bam'\n",
    "rout2 = '../../results/main/LNCaP/4d_nucleome/4DNESNHN919R-B1-T1_R2.sorted.linedup.bam'\n",
    "\n",
    "sam1 = pysam.AlignmentFile(r1, \"rb\")\n",
    "sam2 = pysam.AlignmentFile(r2, \"rb\")\n",
    "\n",
    "# getting the read names for the first BAM/SAM\n",
    "rnames1 = set()\n",
    "for i, aln in enumerate(sam1.fetch()):\n",
    "    rnames1.add(aln.query_name)\n",
    "    \n",
    "    if i == 100:\n",
    "        break\n",
    "\n",
    "# getting the read names for the second BAM/SAM\n",
    "rnames2 = set()\n",
    "for i, aln in enumerate(sam2.fetch()):\n",
    "    rnames2.add(aln.query_name)\n",
    "    \n",
    "    if i == 100:\n",
    "        break\n",
    "\n",
    "# finding the common read names\n",
    "common = rnames1.intersection(rnames2)\n",
    "\n",
    "# write the reads containing the common names for the first BAM/SAM\n",
    "sam_out1 = pysam.AlignmentFile(rout1, \"wb\", template=sam1)\n",
    "for i, aln in enumerate(sam1.fetch()):\n",
    "    if aln.query_name in common:\n",
    "        sam_out1.write(aln)\n",
    "        \n",
    "    if i == 100:\n",
    "        break        \n",
    "sam_out1.close()\n",
    "\n",
    "# write the reads containing the common names for the second BAM/SAM\n",
    "sam_out2 = pysam.AlignmentFile(rout2, \"wb\", template=sam2)\n",
    "for i, aln in enumerate(sam2.fetch()):\n",
    "    if aln.query_name in common:\n",
    "        sam_out2.write(aln)\n",
    "        \n",
    "    if i == 100:\n",
    "        break\n",
    "        \n",
    "sam_out2.close()\n",
    "\n",
    "# closing the original files as well\n",
    "sam1.close()\n",
    "sam2.close()"
   ]
  },
  {
   "cell_type": "code",
   "execution_count": null,
   "id": "68bddb77",
   "metadata": {},
   "outputs": [],
   "source": []
  },
  {
   "cell_type": "code",
   "execution_count": null,
   "id": "e0e26666",
   "metadata": {},
   "outputs": [],
   "source": []
  },
  {
   "cell_type": "code",
   "execution_count": null,
   "id": "4c37c204",
   "metadata": {},
   "outputs": [],
   "source": []
  },
  {
   "cell_type": "code",
   "execution_count": null,
   "id": "e2be0377",
   "metadata": {},
   "outputs": [],
   "source": []
  },
  {
   "cell_type": "code",
   "execution_count": null,
   "id": "4ee8ae40",
   "metadata": {},
   "outputs": [],
   "source": []
  },
  {
   "cell_type": "code",
   "execution_count": null,
   "id": "29496268",
   "metadata": {},
   "outputs": [],
   "source": []
  },
  {
   "cell_type": "code",
   "execution_count": null,
   "id": "16872467",
   "metadata": {},
   "outputs": [],
   "source": []
  },
  {
   "cell_type": "code",
   "execution_count": null,
   "id": "29cd7a4b",
   "metadata": {},
   "outputs": [],
   "source": []
  },
  {
   "cell_type": "code",
   "execution_count": null,
   "id": "2180e91e",
   "metadata": {},
   "outputs": [],
   "source": []
  },
  {
   "cell_type": "code",
   "execution_count": null,
   "id": "ad90081f",
   "metadata": {},
   "outputs": [],
   "source": []
  },
  {
   "cell_type": "code",
   "execution_count": null,
   "id": "22e12963",
   "metadata": {},
   "outputs": [],
   "source": []
  }
 ],
 "metadata": {
  "kernelspec": {
   "display_name": "HiC",
   "language": "python",
   "name": "hic_tls"
  },
  "language_info": {
   "codemirror_mode": {
    "name": "ipython",
    "version": 3
   },
   "file_extension": ".py",
   "mimetype": "text/x-python",
   "name": "python",
   "nbconvert_exporter": "python",
   "pygments_lexer": "ipython3",
   "version": "3.6.7"
  }
 },
 "nbformat": 4,
 "nbformat_minor": 5
}
